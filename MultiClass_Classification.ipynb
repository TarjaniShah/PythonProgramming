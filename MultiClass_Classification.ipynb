{
 "cells": [
  {
   "cell_type": "markdown",
   "metadata": {},
   "source": [
    "# Multiclass Classification"
   ]
  },
  {
   "cell_type": "markdown",
   "metadata": {},
   "source": [
    "\"Binary classifiers distinguish between two classes, multiclass classifiers (also called multinomial classifiers) can distinguish between more than two classes\" stated in the book Hands-On Machine Learning with - Aurelien Geron"
   ]
  },
  {
   "cell_type": "code",
   "execution_count": null,
   "metadata": {
    "collapsed": true
   },
   "outputs": [],
   "source": [
    "#Importing necessary libraries\n",
    "import pandas as pd\n",
    "import numpy as np\n",
    "import matplotlib.pyplot as plt\n",
    "%matplotlib inline"
   ]
  },
  {
   "cell_type": "code",
   "execution_count": 153,
   "metadata": {},
   "outputs": [],
   "source": [
    "#https://archive.ics.uci.edu/ml/datasets/wine+quality\n",
    "#Importing the data set\n",
    "wine = pd.read_excel(\"winequality-red.xlsx\")"
   ]
  },
  {
   "cell_type": "markdown",
   "metadata": {},
   "source": [
    "# Data Sneak Peak"
   ]
  },
  {
   "cell_type": "code",
   "execution_count": 154,
   "metadata": {},
   "outputs": [
    {
     "data": {
      "text/html": [
       "<div>\n",
       "<style>\n",
       "    .dataframe thead tr:only-child th {\n",
       "        text-align: right;\n",
       "    }\n",
       "\n",
       "    .dataframe thead th {\n",
       "        text-align: left;\n",
       "    }\n",
       "\n",
       "    .dataframe tbody tr th {\n",
       "        vertical-align: top;\n",
       "    }\n",
       "</style>\n",
       "<table border=\"1\" class=\"dataframe\">\n",
       "  <thead>\n",
       "    <tr style=\"text-align: right;\">\n",
       "      <th></th>\n",
       "      <th>fixed acidity</th>\n",
       "      <th>volatile acidity</th>\n",
       "      <th>citric acid</th>\n",
       "      <th>residual sugar</th>\n",
       "      <th>chlorides</th>\n",
       "      <th>free sulfur dioxide</th>\n",
       "      <th>total sulfur dioxide</th>\n",
       "      <th>density</th>\n",
       "      <th>pH</th>\n",
       "      <th>sulphates</th>\n",
       "      <th>alcohol</th>\n",
       "      <th>quality</th>\n",
       "    </tr>\n",
       "  </thead>\n",
       "  <tbody>\n",
       "    <tr>\n",
       "      <th>count</th>\n",
       "      <td>1599.000000</td>\n",
       "      <td>1599.000000</td>\n",
       "      <td>1599.000000</td>\n",
       "      <td>1599.000000</td>\n",
       "      <td>1599.000000</td>\n",
       "      <td>1599.000000</td>\n",
       "      <td>1599.000000</td>\n",
       "      <td>1599.000000</td>\n",
       "      <td>1599.000000</td>\n",
       "      <td>1599.000000</td>\n",
       "      <td>1599.000000</td>\n",
       "      <td>1599.000000</td>\n",
       "    </tr>\n",
       "    <tr>\n",
       "      <th>mean</th>\n",
       "      <td>8.319637</td>\n",
       "      <td>0.527821</td>\n",
       "      <td>0.270976</td>\n",
       "      <td>2.538806</td>\n",
       "      <td>0.087467</td>\n",
       "      <td>15.874922</td>\n",
       "      <td>46.467792</td>\n",
       "      <td>0.996747</td>\n",
       "      <td>3.311113</td>\n",
       "      <td>0.658149</td>\n",
       "      <td>10.422983</td>\n",
       "      <td>5.636023</td>\n",
       "    </tr>\n",
       "    <tr>\n",
       "      <th>std</th>\n",
       "      <td>1.741096</td>\n",
       "      <td>0.179060</td>\n",
       "      <td>0.194801</td>\n",
       "      <td>1.409928</td>\n",
       "      <td>0.047065</td>\n",
       "      <td>10.460157</td>\n",
       "      <td>32.895324</td>\n",
       "      <td>0.001887</td>\n",
       "      <td>0.154386</td>\n",
       "      <td>0.169507</td>\n",
       "      <td>1.065668</td>\n",
       "      <td>0.807569</td>\n",
       "    </tr>\n",
       "    <tr>\n",
       "      <th>min</th>\n",
       "      <td>4.600000</td>\n",
       "      <td>0.120000</td>\n",
       "      <td>0.000000</td>\n",
       "      <td>0.900000</td>\n",
       "      <td>0.012000</td>\n",
       "      <td>1.000000</td>\n",
       "      <td>6.000000</td>\n",
       "      <td>0.990070</td>\n",
       "      <td>2.740000</td>\n",
       "      <td>0.330000</td>\n",
       "      <td>8.400000</td>\n",
       "      <td>3.000000</td>\n",
       "    </tr>\n",
       "    <tr>\n",
       "      <th>25%</th>\n",
       "      <td>7.100000</td>\n",
       "      <td>0.390000</td>\n",
       "      <td>0.090000</td>\n",
       "      <td>1.900000</td>\n",
       "      <td>0.070000</td>\n",
       "      <td>7.000000</td>\n",
       "      <td>22.000000</td>\n",
       "      <td>0.995600</td>\n",
       "      <td>3.210000</td>\n",
       "      <td>0.550000</td>\n",
       "      <td>9.500000</td>\n",
       "      <td>5.000000</td>\n",
       "    </tr>\n",
       "    <tr>\n",
       "      <th>50%</th>\n",
       "      <td>7.900000</td>\n",
       "      <td>0.520000</td>\n",
       "      <td>0.260000</td>\n",
       "      <td>2.200000</td>\n",
       "      <td>0.079000</td>\n",
       "      <td>14.000000</td>\n",
       "      <td>38.000000</td>\n",
       "      <td>0.996750</td>\n",
       "      <td>3.310000</td>\n",
       "      <td>0.620000</td>\n",
       "      <td>10.200000</td>\n",
       "      <td>6.000000</td>\n",
       "    </tr>\n",
       "    <tr>\n",
       "      <th>75%</th>\n",
       "      <td>9.200000</td>\n",
       "      <td>0.640000</td>\n",
       "      <td>0.420000</td>\n",
       "      <td>2.600000</td>\n",
       "      <td>0.090000</td>\n",
       "      <td>21.000000</td>\n",
       "      <td>62.000000</td>\n",
       "      <td>0.997835</td>\n",
       "      <td>3.400000</td>\n",
       "      <td>0.730000</td>\n",
       "      <td>11.100000</td>\n",
       "      <td>6.000000</td>\n",
       "    </tr>\n",
       "    <tr>\n",
       "      <th>max</th>\n",
       "      <td>15.900000</td>\n",
       "      <td>1.580000</td>\n",
       "      <td>1.000000</td>\n",
       "      <td>15.500000</td>\n",
       "      <td>0.611000</td>\n",
       "      <td>72.000000</td>\n",
       "      <td>289.000000</td>\n",
       "      <td>1.003690</td>\n",
       "      <td>4.010000</td>\n",
       "      <td>2.000000</td>\n",
       "      <td>14.900000</td>\n",
       "      <td>8.000000</td>\n",
       "    </tr>\n",
       "  </tbody>\n",
       "</table>\n",
       "</div>"
      ],
      "text/plain": [
       "       fixed acidity  volatile acidity  citric acid  residual sugar  \\\n",
       "count    1599.000000       1599.000000  1599.000000     1599.000000   \n",
       "mean        8.319637          0.527821     0.270976        2.538806   \n",
       "std         1.741096          0.179060     0.194801        1.409928   \n",
       "min         4.600000          0.120000     0.000000        0.900000   \n",
       "25%         7.100000          0.390000     0.090000        1.900000   \n",
       "50%         7.900000          0.520000     0.260000        2.200000   \n",
       "75%         9.200000          0.640000     0.420000        2.600000   \n",
       "max        15.900000          1.580000     1.000000       15.500000   \n",
       "\n",
       "         chlorides  free sulfur dioxide  total sulfur dioxide      density  \\\n",
       "count  1599.000000          1599.000000           1599.000000  1599.000000   \n",
       "mean      0.087467            15.874922             46.467792     0.996747   \n",
       "std       0.047065            10.460157             32.895324     0.001887   \n",
       "min       0.012000             1.000000              6.000000     0.990070   \n",
       "25%       0.070000             7.000000             22.000000     0.995600   \n",
       "50%       0.079000            14.000000             38.000000     0.996750   \n",
       "75%       0.090000            21.000000             62.000000     0.997835   \n",
       "max       0.611000            72.000000            289.000000     1.003690   \n",
       "\n",
       "                pH    sulphates      alcohol      quality  \n",
       "count  1599.000000  1599.000000  1599.000000  1599.000000  \n",
       "mean      3.311113     0.658149    10.422983     5.636023  \n",
       "std       0.154386     0.169507     1.065668     0.807569  \n",
       "min       2.740000     0.330000     8.400000     3.000000  \n",
       "25%       3.210000     0.550000     9.500000     5.000000  \n",
       "50%       3.310000     0.620000    10.200000     6.000000  \n",
       "75%       3.400000     0.730000    11.100000     6.000000  \n",
       "max       4.010000     2.000000    14.900000     8.000000  "
      ]
     },
     "execution_count": 154,
     "metadata": {},
     "output_type": "execute_result"
    }
   ],
   "source": [
    "wine.describe()"
   ]
  },
  {
   "cell_type": "code",
   "execution_count": 155,
   "metadata": {},
   "outputs": [
    {
     "name": "stdout",
     "output_type": "stream",
     "text": [
      "<class 'pandas.core.frame.DataFrame'>\n",
      "RangeIndex: 1599 entries, 0 to 1598\n",
      "Data columns (total 12 columns):\n",
      "fixed acidity           1599 non-null float64\n",
      "volatile acidity        1599 non-null float64\n",
      "citric acid             1599 non-null float64\n",
      "residual sugar          1599 non-null float64\n",
      "chlorides               1599 non-null float64\n",
      "free sulfur dioxide     1599 non-null float64\n",
      "total sulfur dioxide    1599 non-null float64\n",
      "density                 1599 non-null float64\n",
      "pH                      1599 non-null float64\n",
      "sulphates               1599 non-null float64\n",
      "alcohol                 1599 non-null float64\n",
      "quality                 1599 non-null int64\n",
      "dtypes: float64(11), int64(1)\n",
      "memory usage: 150.0 KB\n"
     ]
    }
   ],
   "source": [
    "wine.info()"
   ]
  },
  {
   "cell_type": "code",
   "execution_count": 156,
   "metadata": {},
   "outputs": [
    {
     "data": {
      "text/html": [
       "<div>\n",
       "<style>\n",
       "    .dataframe thead tr:only-child th {\n",
       "        text-align: right;\n",
       "    }\n",
       "\n",
       "    .dataframe thead th {\n",
       "        text-align: left;\n",
       "    }\n",
       "\n",
       "    .dataframe tbody tr th {\n",
       "        vertical-align: top;\n",
       "    }\n",
       "</style>\n",
       "<table border=\"1\" class=\"dataframe\">\n",
       "  <thead>\n",
       "    <tr style=\"text-align: right;\">\n",
       "      <th></th>\n",
       "      <th>fixed acidity</th>\n",
       "      <th>volatile acidity</th>\n",
       "      <th>citric acid</th>\n",
       "      <th>residual sugar</th>\n",
       "      <th>chlorides</th>\n",
       "      <th>free sulfur dioxide</th>\n",
       "      <th>total sulfur dioxide</th>\n",
       "      <th>density</th>\n",
       "      <th>pH</th>\n",
       "      <th>sulphates</th>\n",
       "      <th>alcohol</th>\n",
       "      <th>quality</th>\n",
       "    </tr>\n",
       "  </thead>\n",
       "  <tbody>\n",
       "    <tr>\n",
       "      <th>0</th>\n",
       "      <td>7.4</td>\n",
       "      <td>0.70</td>\n",
       "      <td>0.00</td>\n",
       "      <td>1.9</td>\n",
       "      <td>0.076</td>\n",
       "      <td>11.0</td>\n",
       "      <td>34.0</td>\n",
       "      <td>0.9978</td>\n",
       "      <td>3.51</td>\n",
       "      <td>0.56</td>\n",
       "      <td>9.4</td>\n",
       "      <td>5</td>\n",
       "    </tr>\n",
       "    <tr>\n",
       "      <th>1</th>\n",
       "      <td>7.8</td>\n",
       "      <td>0.88</td>\n",
       "      <td>0.00</td>\n",
       "      <td>2.6</td>\n",
       "      <td>0.098</td>\n",
       "      <td>25.0</td>\n",
       "      <td>67.0</td>\n",
       "      <td>0.9968</td>\n",
       "      <td>3.20</td>\n",
       "      <td>0.68</td>\n",
       "      <td>9.8</td>\n",
       "      <td>5</td>\n",
       "    </tr>\n",
       "    <tr>\n",
       "      <th>2</th>\n",
       "      <td>7.8</td>\n",
       "      <td>0.76</td>\n",
       "      <td>0.04</td>\n",
       "      <td>2.3</td>\n",
       "      <td>0.092</td>\n",
       "      <td>15.0</td>\n",
       "      <td>54.0</td>\n",
       "      <td>0.9970</td>\n",
       "      <td>3.26</td>\n",
       "      <td>0.65</td>\n",
       "      <td>9.8</td>\n",
       "      <td>5</td>\n",
       "    </tr>\n",
       "    <tr>\n",
       "      <th>3</th>\n",
       "      <td>11.2</td>\n",
       "      <td>0.28</td>\n",
       "      <td>0.56</td>\n",
       "      <td>1.9</td>\n",
       "      <td>0.075</td>\n",
       "      <td>17.0</td>\n",
       "      <td>60.0</td>\n",
       "      <td>0.9980</td>\n",
       "      <td>3.16</td>\n",
       "      <td>0.58</td>\n",
       "      <td>9.8</td>\n",
       "      <td>6</td>\n",
       "    </tr>\n",
       "    <tr>\n",
       "      <th>4</th>\n",
       "      <td>7.4</td>\n",
       "      <td>0.70</td>\n",
       "      <td>0.00</td>\n",
       "      <td>1.9</td>\n",
       "      <td>0.076</td>\n",
       "      <td>11.0</td>\n",
       "      <td>34.0</td>\n",
       "      <td>0.9978</td>\n",
       "      <td>3.51</td>\n",
       "      <td>0.56</td>\n",
       "      <td>9.4</td>\n",
       "      <td>5</td>\n",
       "    </tr>\n",
       "  </tbody>\n",
       "</table>\n",
       "</div>"
      ],
      "text/plain": [
       "   fixed acidity  volatile acidity  citric acid  residual sugar  chlorides  \\\n",
       "0            7.4              0.70         0.00             1.9      0.076   \n",
       "1            7.8              0.88         0.00             2.6      0.098   \n",
       "2            7.8              0.76         0.04             2.3      0.092   \n",
       "3           11.2              0.28         0.56             1.9      0.075   \n",
       "4            7.4              0.70         0.00             1.9      0.076   \n",
       "\n",
       "   free sulfur dioxide  total sulfur dioxide  density    pH  sulphates  \\\n",
       "0                 11.0                  34.0   0.9978  3.51       0.56   \n",
       "1                 25.0                  67.0   0.9968  3.20       0.68   \n",
       "2                 15.0                  54.0   0.9970  3.26       0.65   \n",
       "3                 17.0                  60.0   0.9980  3.16       0.58   \n",
       "4                 11.0                  34.0   0.9978  3.51       0.56   \n",
       "\n",
       "   alcohol  quality  \n",
       "0      9.4        5  \n",
       "1      9.8        5  \n",
       "2      9.8        5  \n",
       "3      9.8        6  \n",
       "4      9.4        5  "
      ]
     },
     "execution_count": 156,
     "metadata": {},
     "output_type": "execute_result"
    }
   ],
   "source": [
    "wine.head()"
   ]
  },
  {
   "cell_type": "code",
   "execution_count": 128,
   "metadata": {},
   "outputs": [
    {
     "data": {
      "text/plain": [
       "array([[<matplotlib.axes._subplots.AxesSubplot object at 0x0000021BFFB815C0>,\n",
       "        <matplotlib.axes._subplots.AxesSubplot object at 0x0000021BFFBBD0B8>,\n",
       "        <matplotlib.axes._subplots.AxesSubplot object at 0x0000021BFFBE1198>,\n",
       "        <matplotlib.axes._subplots.AxesSubplot object at 0x0000021BFFBC5B38>],\n",
       "       [<matplotlib.axes._subplots.AxesSubplot object at 0x0000021BFFC230F0>,\n",
       "        <matplotlib.axes._subplots.AxesSubplot object at 0x0000021BFFC23128>,\n",
       "        <matplotlib.axes._subplots.AxesSubplot object at 0x0000021BFFC7F470>,\n",
       "        <matplotlib.axes._subplots.AxesSubplot object at 0x0000021BFFCB54E0>],\n",
       "       [<matplotlib.axes._subplots.AxesSubplot object at 0x0000021BFFCE6320>,\n",
       "        <matplotlib.axes._subplots.AxesSubplot object at 0x0000021BFFD18550>,\n",
       "        <matplotlib.axes._subplots.AxesSubplot object at 0x0000021BFFD4C630>,\n",
       "        <matplotlib.axes._subplots.AxesSubplot object at 0x0000021BFFD81710>],\n",
       "       [<matplotlib.axes._subplots.AxesSubplot object at 0x0000021BFFD95DD8>,\n",
       "        <matplotlib.axes._subplots.AxesSubplot object at 0x0000021BFFDE6240>,\n",
       "        <matplotlib.axes._subplots.AxesSubplot object at 0x0000021BFFE17A20>,\n",
       "        <matplotlib.axes._subplots.AxesSubplot object at 0x0000021BFFE53080>]], dtype=object)"
      ]
     },
     "execution_count": 128,
     "metadata": {},
     "output_type": "execute_result"
    },
    {
     "data": {
      "image/png": "[encoded data removed]",
      "text/plain": [
       "<matplotlib.figure.Figure at 0x21bffb85780>"
      ]
     },
     "metadata": {},
     "output_type": "display_data"
    }
   ],
   "source": [
    "wine.hist()"
   ]
  },
  {
   "cell_type": "markdown",
   "metadata": {},
   "source": [
    "# Correlation Matrix"
   ]
  },
  {
   "cell_type": "code",
   "execution_count": 157,
   "metadata": {},
   "outputs": [
    {
     "data": {
      "text/html": [
       "<style  type=\"text/css\" >\n",
       "    #T_b16f1880_3145_11e8_ba5f_c811726dc8berow0_col0 {\n",
       "            background-color:  #b40426;\n",
       "        }    #T_b16f1880_3145_11e8_ba5f_c811726dc8berow0_col1 {\n",
       "            background-color:  #8db0fe;\n",
       "        }    #T_b16f1880_3145_11e8_ba5f_c811726dc8berow0_col2 {\n",
       "            background-color:  #ec8165;\n",
       "        }    #T_b16f1880_3145_11e8_ba5f_c811726dc8berow0_col3 {\n",
       "            background-color:  #d6dce4;\n",
       "        }    #T_b16f1880_3145_11e8_ba5f_c811726dc8berow0_col4 {\n",
       "            background-color:  #d3dbe7;\n",
       "        }    #T_b16f1880_3145_11e8_ba5f_c811726dc8berow0_col5 {\n",
       "            background-color:  #a3c2fe;\n",
       "        }    #T_b16f1880_3145_11e8_ba5f_c811726dc8berow0_col6 {\n",
       "            background-color:  #abc8fd;\n",
       "        }    #T_b16f1880_3145_11e8_ba5f_c811726dc8berow0_col7 {\n",
       "            background-color:  #ed8366;\n",
       "        }    #T_b16f1880_3145_11e8_ba5f_c811726dc8berow0_col8 {\n",
       "            background-color:  #3b4cc0;\n",
       "        }    #T_b16f1880_3145_11e8_ba5f_c811726dc8berow0_col9 {\n",
       "            background-color:  #e0dbd8;\n",
       "        }    #T_b16f1880_3145_11e8_ba5f_c811726dc8berow0_col10 {\n",
       "            background-color:  #b6cefa;\n",
       "        }    #T_b16f1880_3145_11e8_ba5f_c811726dc8berow0_col11 {\n",
       "            background-color:  #d7dce3;\n",
       "        }    #T_b16f1880_3145_11e8_ba5f_c811726dc8berow1_col0 {\n",
       "            background-color:  #779af7;\n",
       "        }    #T_b16f1880_3145_11e8_ba5f_c811726dc8berow1_col1 {\n",
       "            background-color:  #b40426;\n",
       "        }    #T_b16f1880_3145_11e8_ba5f_c811726dc8berow1_col2 {\n",
       "            background-color:  #3b4cc0;\n",
       "        }    #T_b16f1880_3145_11e8_ba5f_c811726dc8berow1_col3 {\n",
       "            background-color:  #b2ccfb;\n",
       "        }    #T_b16f1880_3145_11e8_ba5f_c811726dc8berow1_col4 {\n",
       "            background-color:  #bfd3f6;\n",
       "        }    #T_b16f1880_3145_11e8_ba5f_c811726dc8berow1_col5 {\n",
       "            background-color:  #afcafc;\n",
       "        }    #T_b16f1880_3145_11e8_ba5f_c811726dc8berow1_col6 {\n",
       "            background-color:  #c1d4f4;\n",
       "        }    #T_b16f1880_3145_11e8_ba5f_c811726dc8berow1_col7 {\n",
       "            background-color:  #b6cefa;\n",
       "        }    #T_b16f1880_3145_11e8_ba5f_c811726dc8berow1_col8 {\n",
       "            background-color:  #dedcdb;\n",
       "        }    #T_b16f1880_3145_11e8_ba5f_c811726dc8berow1_col9 {\n",
       "            background-color:  #779af7;\n",
       "        }    #T_b16f1880_3145_11e8_ba5f_c811726dc8berow1_col10 {\n",
       "            background-color:  #84a7fc;\n",
       "        }    #T_b16f1880_3145_11e8_ba5f_c811726dc8berow1_col11 {\n",
       "            background-color:  #5a78e4;\n",
       "        }    #T_b16f1880_3145_11e8_ba5f_c811726dc8berow2_col0 {\n",
       "            background-color:  #f08a6c;\n",
       "        }    #T_b16f1880_3145_11e8_ba5f_c811726dc8berow2_col1 {\n",
       "            background-color:  #3b4cc0;\n",
       "        }    #T_b16f1880_3145_11e8_ba5f_c811726dc8berow2_col2 {\n",
       "            background-color:  #b40426;\n",
       "        }    #T_b16f1880_3145_11e8_ba5f_c811726dc8berow2_col3 {\n",
       "            background-color:  #cedaeb;\n",
       "        }    #T_b16f1880_3145_11e8_ba5f_c811726dc8berow2_col4 {\n",
       "            background-color:  #d9dce1;\n",
       "        }    #T_b16f1880_3145_11e8_ba5f_c811726dc8berow2_col5 {\n",
       "            background-color:  #a5c3fe;\n",
       "        }    #T_b16f1880_3145_11e8_ba5f_c811726dc8berow2_col6 {\n",
       "            background-color:  #b9d0f9;\n",
       "        }    #T_b16f1880_3145_11e8_ba5f_c811726dc8berow2_col7 {\n",
       "            background-color:  #f1cdba;\n",
       "        }    #T_b16f1880_3145_11e8_ba5f_c811726dc8berow2_col8 {\n",
       "            background-color:  #3c4ec2;\n",
       "        }    #T_b16f1880_3145_11e8_ba5f_c811726dc8berow2_col9 {\n",
       "            background-color:  #ead4c8;\n",
       "        }    #T_b16f1880_3145_11e8_ba5f_c811726dc8berow2_col10 {\n",
       "            background-color:  #c9d7f0;\n",
       "        }    #T_b16f1880_3145_11e8_ba5f_c811726dc8berow2_col11 {\n",
       "            background-color:  #dddcdc;\n",
       "        }    #T_b16f1880_3145_11e8_ba5f_c811726dc8berow3_col0 {\n",
       "            background-color:  #7699f6;\n",
       "        }    #T_b16f1880_3145_11e8_ba5f_c811726dc8berow3_col1 {\n",
       "            background-color:  #536edd;\n",
       "        }    #T_b16f1880_3145_11e8_ba5f_c811726dc8berow3_col2 {\n",
       "            background-color:  #80a3fa;\n",
       "        }    #T_b16f1880_3145_11e8_ba5f_c811726dc8berow3_col3 {\n",
       "            background-color:  #b40426;\n",
       "        }    #T_b16f1880_3145_11e8_ba5f_c811726dc8berow3_col4 {\n",
       "            background-color:  #6384eb;\n",
       "        }    #T_b16f1880_3145_11e8_ba5f_c811726dc8berow3_col5 {\n",
       "            background-color:  #8db0fe;\n",
       "        }    #T_b16f1880_3145_11e8_ba5f_c811726dc8berow3_col6 {\n",
       "            background-color:  #93b5fe;\n",
       "        }    #T_b16f1880_3145_11e8_ba5f_c811726dc8berow3_col7 {\n",
       "            background-color:  #c1d4f4;\n",
       "        }    #T_b16f1880_3145_11e8_ba5f_c811726dc8berow3_col8 {\n",
       "            background-color:  #3b4cc0;\n",
       "        }    #T_b16f1880_3145_11e8_ba5f_c811726dc8berow3_col9 {\n",
       "            background-color:  #5470de;\n",
       "        }    #T_b16f1880_3145_11e8_ba5f_c811726dc8berow3_col10 {\n",
       "            background-color:  #5f7fe8;\n",
       "        }    #T_b16f1880_3145_11e8_ba5f_c811726dc8berow3_col11 {\n",
       "            background-color:  #5673e0;\n",
       "        }    #T_b16f1880_3145_11e8_ba5f_c811726dc8berow4_col0 {\n",
       "            background-color:  #98b9ff;\n",
       "        }    #T_b16f1880_3145_11e8_ba5f_c811726dc8berow4_col1 {\n",
       "            background-color:  #90b2fe;\n",
       "        }    #T_b16f1880_3145_11e8_ba5f_c811726dc8berow4_col2 {\n",
       "            background-color:  #b6cefa;\n",
       "        }    #T_b16f1880_3145_11e8_ba5f_c811726dc8berow4_col3 {\n",
       "            background-color:  #8db0fe;\n",
       "        }    #T_b16f1880_3145_11e8_ba5f_c811726dc8berow4_col4 {\n",
       "            background-color:  #b40426;\n",
       "        }    #T_b16f1880_3145_11e8_ba5f_c811726dc8berow4_col5 {\n",
       "            background-color:  #80a3fa;\n",
       "        }    #T_b16f1880_3145_11e8_ba5f_c811726dc8berow4_col6 {\n",
       "            background-color:  #8caffe;\n",
       "        }    #T_b16f1880_3145_11e8_ba5f_c811726dc8berow4_col7 {\n",
       "            background-color:  #b6cefa;\n",
       "        }    #T_b16f1880_3145_11e8_ba5f_c811726dc8berow4_col8 {\n",
       "            background-color:  #3b4cc0;\n",
       "        }    #T_b16f1880_3145_11e8_ba5f_c811726dc8berow4_col9 {\n",
       "            background-color:  #dddcdc;\n",
       "        }    #T_b16f1880_3145_11e8_ba5f_c811726dc8berow4_col10 {\n",
       "            background-color:  #445acc;\n",
       "        }    #T_b16f1880_3145_11e8_ba5f_c811726dc8berow4_col11 {\n",
       "            background-color:  #5b7ae5;\n",
       "        }    #T_b16f1880_3145_11e8_ba5f_c811726dc8berow5_col0 {\n",
       "            background-color:  #3b4cc0;\n",
       "        }    #T_b16f1880_3145_11e8_ba5f_c811726dc8berow5_col1 {\n",
       "            background-color:  #6180e9;\n",
       "        }    #T_b16f1880_3145_11e8_ba5f_c811726dc8berow5_col2 {\n",
       "            background-color:  #536edd;\n",
       "        }    #T_b16f1880_3145_11e8_ba5f_c811726dc8berow5_col3 {\n",
       "            background-color:  #9dbdff;\n",
       "        }    #T_b16f1880_3145_11e8_ba5f_c811726dc8berow5_col4 {\n",
       "            background-color:  #6687ed;\n",
       "        }    #T_b16f1880_3145_11e8_ba5f_c811726dc8berow5_col5 {\n",
       "            background-color:  #b40426;\n",
       "        }    #T_b16f1880_3145_11e8_ba5f_c811726dc8berow5_col6 {\n",
       "            background-color:  #f7a889;\n",
       "        }    #T_b16f1880_3145_11e8_ba5f_c811726dc8berow5_col7 {\n",
       "            background-color:  #5e7de7;\n",
       "        }    #T_b16f1880_3145_11e8_ba5f_c811726dc8berow5_col8 {\n",
       "            background-color:  #799cf8;\n",
       "        }    #T_b16f1880_3145_11e8_ba5f_c811726dc8berow5_col9 {\n",
       "            background-color:  #7396f5;\n",
       "        }    #T_b16f1880_3145_11e8_ba5f_c811726dc8berow5_col10 {\n",
       "            background-color:  #506bda;\n",
       "        }    #T_b16f1880_3145_11e8_ba5f_c811726dc8berow5_col11 {\n",
       "            background-color:  #5572df;\n",
       "        }    #T_b16f1880_3145_11e8_ba5f_c811726dc8berow6_col0 {\n",
       "            background-color:  #516ddb;\n",
       "        }    #T_b16f1880_3145_11e8_ba5f_c811726dc8berow6_col1 {\n",
       "            background-color:  #86a9fc;\n",
       "        }    #T_b16f1880_3145_11e8_ba5f_c811726dc8berow6_col2 {\n",
       "            background-color:  #7b9ff9;\n",
       "        }    #T_b16f1880_3145_11e8_ba5f_c811726dc8berow6_col3 {\n",
       "            background-color:  #abc8fd;\n",
       "        }    #T_b16f1880_3145_11e8_ba5f_c811726dc8berow6_col4 {\n",
       "            background-color:  #7ea1fa;\n",
       "        }    #T_b16f1880_3145_11e8_ba5f_c811726dc8berow6_col5 {\n",
       "            background-color:  #f6a385;\n",
       "        }    #T_b16f1880_3145_11e8_ba5f_c811726dc8berow6_col6 {\n",
       "            background-color:  #b40426;\n",
       "        }    #T_b16f1880_3145_11e8_ba5f_c811726dc8berow6_col7 {\n",
       "            background-color:  #85a8fc;\n",
       "        }    #T_b16f1880_3145_11e8_ba5f_c811726dc8berow6_col8 {\n",
       "            background-color:  #5e7de7;\n",
       "        }    #T_b16f1880_3145_11e8_ba5f_c811726dc8berow6_col9 {\n",
       "            background-color:  #7da0f9;\n",
       "        }    #T_b16f1880_3145_11e8_ba5f_c811726dc8berow6_col10 {\n",
       "            background-color:  #3b4cc0;\n",
       "        }    #T_b16f1880_3145_11e8_ba5f_c811726dc8berow6_col11 {\n",
       "            background-color:  #3f53c6;\n",
       "        }    #T_b16f1880_3145_11e8_ba5f_c811726dc8berow7_col0 {\n",
       "            background-color:  #f18d6f;\n",
       "        }    #T_b16f1880_3145_11e8_ba5f_c811726dc8berow7_col1 {\n",
       "            background-color:  #aec9fc;\n",
       "        }    #T_b16f1880_3145_11e8_ba5f_c811726dc8berow7_col2 {\n",
       "            background-color:  #eed0c0;\n",
       "        }    #T_b16f1880_3145_11e8_ba5f_c811726dc8berow7_col3 {\n",
       "            background-color:  #edd2c3;\n",
       "        }    #T_b16f1880_3145_11e8_ba5f_c811726dc8berow7_col4 {\n",
       "            background-color:  #d4dbe6;\n",
       "        }    #T_b16f1880_3145_11e8_ba5f_c811726dc8berow7_col5 {\n",
       "            background-color:  #a5c3fe;\n",
       "        }    #T_b16f1880_3145_11e8_ba5f_c811726dc8berow7_col6 {\n",
       "            background-color:  #bad0f8;\n",
       "        }    #T_b16f1880_3145_11e8_ba5f_c811726dc8berow7_col7 {\n",
       "            background-color:  #b40426;\n",
       "        }    #T_b16f1880_3145_11e8_ba5f_c811726dc8berow7_col8 {\n",
       "            background-color:  #5a78e4;\n",
       "        }    #T_b16f1880_3145_11e8_ba5f_c811726dc8berow7_col9 {\n",
       "            background-color:  #cad8ef;\n",
       "        }    #T_b16f1880_3145_11e8_ba5f_c811726dc8berow7_col10 {\n",
       "            background-color:  #3b4cc0;\n",
       "        }    #T_b16f1880_3145_11e8_ba5f_c811726dc8berow7_col11 {\n",
       "            background-color:  #80a3fa;\n",
       "        }    #T_b16f1880_3145_11e8_ba5f_c811726dc8berow8_col0 {\n",
       "            background-color:  #3b4cc0;\n",
       "        }    #T_b16f1880_3145_11e8_ba5f_c811726dc8berow8_col1 {\n",
       "            background-color:  #e8d6cc;\n",
       "        }    #T_b16f1880_3145_11e8_ba5f_c811726dc8berow8_col2 {\n",
       "            background-color:  #5470de;\n",
       "        }    #T_b16f1880_3145_11e8_ba5f_c811726dc8berow8_col3 {\n",
       "            background-color:  #b1cbfc;\n",
       "        }    #T_b16f1880_3145_11e8_ba5f_c811726dc8berow8_col4 {\n",
       "            background-color:  #8caffe;\n",
       "        }    #T_b16f1880_3145_11e8_ba5f_c811726dc8berow8_col5 {\n",
       "            background-color:  #cedaeb;\n",
       "        }    #T_b16f1880_3145_11e8_ba5f_c811726dc8berow8_col6 {\n",
       "            background-color:  #b5cdfa;\n",
       "        }    #T_b16f1880_3145_11e8_ba5f_c811726dc8berow8_col7 {\n",
       "            background-color:  #7b9ff9;\n",
       "        }    #T_b16f1880_3145_11e8_ba5f_c811726dc8berow8_col8 {\n",
       "            background-color:  #b40426;\n",
       "        }    #T_b16f1880_3145_11e8_ba5f_c811726dc8berow8_col9 {\n",
       "            background-color:  #9abbff;\n",
       "        }    #T_b16f1880_3145_11e8_ba5f_c811726dc8berow8_col10 {\n",
       "            background-color:  #e4d9d2;\n",
       "        }    #T_b16f1880_3145_11e8_ba5f_c811726dc8berow8_col11 {\n",
       "            background-color:  #b7cff9;\n",
       "        }    #T_b16f1880_3145_11e8_ba5f_c811726dc8berow9_col0 {\n",
       "            background-color:  #b1cbfc;\n",
       "        }    #T_b16f1880_3145_11e8_ba5f_c811726dc8berow9_col1 {\n",
       "            background-color:  #3b4cc0;\n",
       "        }    #T_b16f1880_3145_11e8_ba5f_c811726dc8berow9_col2 {\n",
       "            background-color:  #d1dae9;\n",
       "        }    #T_b16f1880_3145_11e8_ba5f_c811726dc8berow9_col3 {\n",
       "            background-color:  #80a3fa;\n",
       "        }    #T_b16f1880_3145_11e8_ba5f_c811726dc8berow9_col4 {\n",
       "            background-color:  #dddcdc;\n",
       "        }    #T_b16f1880_3145_11e8_ba5f_c811726dc8berow9_col5 {\n",
       "            background-color:  #8caffe;\n",
       "        }    #T_b16f1880_3145_11e8_ba5f_c811726dc8berow9_col6 {\n",
       "            background-color:  #89acfd;\n",
       "        }    #T_b16f1880_3145_11e8_ba5f_c811726dc8berow9_col7 {\n",
       "            background-color:  #a7c5fe;\n",
       "        }    #T_b16f1880_3145_11e8_ba5f_c811726dc8berow9_col8 {\n",
       "            background-color:  #4a63d3;\n",
       "        }    #T_b16f1880_3145_11e8_ba5f_c811726dc8berow9_col9 {\n",
       "            background-color:  #b40426;\n",
       "        }    #T_b16f1880_3145_11e8_ba5f_c811726dc8berow9_col10 {\n",
       "            background-color:  #97b8ff;\n",
       "        }    #T_b16f1880_3145_11e8_ba5f_c811726dc8berow9_col11 {\n",
       "            background-color:  #c3d5f4;\n",
       "        }    #T_b16f1880_3145_11e8_ba5f_c811726dc8berow10_col0 {\n",
       "            background-color:  #9bbcff;\n",
       "        }    #T_b16f1880_3145_11e8_ba5f_c811726dc8berow10_col1 {\n",
       "            background-color:  #7a9df8;\n",
       "        }    #T_b16f1880_3145_11e8_ba5f_c811726dc8berow10_col2 {\n",
       "            background-color:  #c1d4f4;\n",
       "        }    #T_b16f1880_3145_11e8_ba5f_c811726dc8berow10_col3 {\n",
       "            background-color:  #b3cdfb;\n",
       "        }    #T_b16f1880_3145_11e8_ba5f_c811726dc8berow10_col4 {\n",
       "            background-color:  #7699f6;\n",
       "        }    #T_b16f1880_3145_11e8_ba5f_c811726dc8berow10_col5 {\n",
       "            background-color:  #9abbff;\n",
       "        }    #T_b16f1880_3145_11e8_ba5f_c811726dc8berow10_col6 {\n",
       "            background-color:  #799cf8;\n",
       "        }    #T_b16f1880_3145_11e8_ba5f_c811726dc8berow10_col7 {\n",
       "            background-color:  #3b4cc0;\n",
       "        }    #T_b16f1880_3145_11e8_ba5f_c811726dc8berow10_col8 {\n",
       "            background-color:  #d5dbe5;\n",
       "        }    #T_b16f1880_3145_11e8_ba5f_c811726dc8berow10_col9 {\n",
       "            background-color:  #bed2f6;\n",
       "        }    #T_b16f1880_3145_11e8_ba5f_c811726dc8berow10_col10 {\n",
       "            background-color:  #b40426;\n",
       "        }    #T_b16f1880_3145_11e8_ba5f_c811726dc8berow10_col11 {\n",
       "            background-color:  #f6bda2;\n",
       "        }    #T_b16f1880_3145_11e8_ba5f_c811726dc8berow11_col0 {\n",
       "            background-color:  #b6cefa;\n",
       "        }    #T_b16f1880_3145_11e8_ba5f_c811726dc8berow11_col1 {\n",
       "            background-color:  #3b4cc0;\n",
       "        }    #T_b16f1880_3145_11e8_ba5f_c811726dc8berow11_col2 {\n",
       "            background-color:  #cdd9ec;\n",
       "        }    #T_b16f1880_3145_11e8_ba5f_c811726dc8berow11_col3 {\n",
       "            background-color:  #9bbcff;\n",
       "        }    #T_b16f1880_3145_11e8_ba5f_c811726dc8berow11_col4 {\n",
       "            background-color:  #779af7;\n",
       "        }    #T_b16f1880_3145_11e8_ba5f_c811726dc8berow11_col5 {\n",
       "            background-color:  #8badfd;\n",
       "        }    #T_b16f1880_3145_11e8_ba5f_c811726dc8berow11_col6 {\n",
       "            background-color:  #688aef;\n",
       "        }    #T_b16f1880_3145_11e8_ba5f_c811726dc8berow11_col7 {\n",
       "            background-color:  #6b8df0;\n",
       "        }    #T_b16f1880_3145_11e8_ba5f_c811726dc8berow11_col8 {\n",
       "            background-color:  #89acfd;\n",
       "        }    #T_b16f1880_3145_11e8_ba5f_c811726dc8berow11_col9 {\n",
       "            background-color:  #d3dbe7;\n",
       "        }    #T_b16f1880_3145_11e8_ba5f_c811726dc8berow11_col10 {\n",
       "            background-color:  #f4c5ad;\n",
       "        }    #T_b16f1880_3145_11e8_ba5f_c811726dc8berow11_col11 {\n",
       "            background-color:  #b40426;\n",
       "        }</style>  \n",
       "<table id=\"T_b16f1880_3145_11e8_ba5f_c811726dc8be\" > \n",
       "<thead>    <tr> \n",
       "        <th class=\"blank level0\" ></th> \n",
       "        <th class=\"col_heading level0 col0\" >fixed acidity</th> \n",
       "        <th class=\"col_heading level0 col1\" >volatile acidity</th> \n",
       "        <th class=\"col_heading level0 col2\" >citric acid</th> \n",
       "        <th class=\"col_heading level0 col3\" >residual sugar</th> \n",
       "        <th class=\"col_heading level0 col4\" >chlorides</th> \n",
       "        <th class=\"col_heading level0 col5\" >free sulfur dioxide</th> \n",
       "        <th class=\"col_heading level0 col6\" >total sulfur dioxide</th> \n",
       "        <th class=\"col_heading level0 col7\" >density</th> \n",
       "        <th class=\"col_heading level0 col8\" >pH</th> \n",
       "        <th class=\"col_heading level0 col9\" >sulphates</th> \n",
       "        <th class=\"col_heading level0 col10\" >alcohol</th> \n",
       "        <th class=\"col_heading level0 col11\" >quality</th> \n",
       "    </tr></thead> \n",
       "<tbody>    <tr> \n",
       "        <th id=\"T_b16f1880_3145_11e8_ba5f_c811726dc8belevel0_row0\" class=\"row_heading level0 row0\" >fixed acidity</th> \n",
       "        <td id=\"T_b16f1880_3145_11e8_ba5f_c811726dc8berow0_col0\" class=\"data row0 col0\" >1.0</td> \n",
       "        <td id=\"T_b16f1880_3145_11e8_ba5f_c811726dc8berow0_col1\" class=\"data row0 col1\" >-0.26</td> \n",
       "        <td id=\"T_b16f1880_3145_11e8_ba5f_c811726dc8berow0_col2\" class=\"data row0 col2\" >0.67</td> \n",
       "        <td id=\"T_b16f1880_3145_11e8_ba5f_c811726dc8berow0_col3\" class=\"data row0 col3\" >0.11</td> \n",
       "        <td id=\"T_b16f1880_3145_11e8_ba5f_c811726dc8berow0_col4\" class=\"data row0 col4\" >0.094</td> \n",
       "        <td id=\"T_b16f1880_3145_11e8_ba5f_c811726dc8berow0_col5\" class=\"data row0 col5\" >-0.15</td> \n",
       "        <td id=\"T_b16f1880_3145_11e8_ba5f_c811726dc8berow0_col6\" class=\"data row0 col6\" >-0.11</td> \n",
       "        <td id=\"T_b16f1880_3145_11e8_ba5f_c811726dc8berow0_col7\" class=\"data row0 col7\" >0.67</td> \n",
       "        <td id=\"T_b16f1880_3145_11e8_ba5f_c811726dc8berow0_col8\" class=\"data row0 col8\" >-0.68</td> \n",
       "        <td id=\"T_b16f1880_3145_11e8_ba5f_c811726dc8berow0_col9\" class=\"data row0 col9\" >0.18</td> \n",
       "        <td id=\"T_b16f1880_3145_11e8_ba5f_c811726dc8berow0_col10\" class=\"data row0 col10\" >-0.062</td> \n",
       "        <td id=\"T_b16f1880_3145_11e8_ba5f_c811726dc8berow0_col11\" class=\"data row0 col11\" >0.12</td> \n",
       "    </tr>    <tr> \n",
       "        <th id=\"T_b16f1880_3145_11e8_ba5f_c811726dc8belevel0_row1\" class=\"row_heading level0 row1\" >volatile acidity</th> \n",
       "        <td id=\"T_b16f1880_3145_11e8_ba5f_c811726dc8berow1_col0\" class=\"data row1 col0\" >-0.26</td> \n",
       "        <td id=\"T_b16f1880_3145_11e8_ba5f_c811726dc8berow1_col1\" class=\"data row1 col1\" >1.0</td> \n",
       "        <td id=\"T_b16f1880_3145_11e8_ba5f_c811726dc8berow1_col2\" class=\"data row1 col2\" >-0.55</td> \n",
       "        <td id=\"T_b16f1880_3145_11e8_ba5f_c811726dc8berow1_col3\" class=\"data row1 col3\" >0.0019</td> \n",
       "        <td id=\"T_b16f1880_3145_11e8_ba5f_c811726dc8berow1_col4\" class=\"data row1 col4\" >0.061</td> \n",
       "        <td id=\"T_b16f1880_3145_11e8_ba5f_c811726dc8berow1_col5\" class=\"data row1 col5\" >-0.011</td> \n",
       "        <td id=\"T_b16f1880_3145_11e8_ba5f_c811726dc8berow1_col6\" class=\"data row1 col6\" >0.076</td> \n",
       "        <td id=\"T_b16f1880_3145_11e8_ba5f_c811726dc8berow1_col7\" class=\"data row1 col7\" >0.022</td> \n",
       "        <td id=\"T_b16f1880_3145_11e8_ba5f_c811726dc8berow1_col8\" class=\"data row1 col8\" >0.23</td> \n",
       "        <td id=\"T_b16f1880_3145_11e8_ba5f_c811726dc8berow1_col9\" class=\"data row1 col9\" >-0.26</td> \n",
       "        <td id=\"T_b16f1880_3145_11e8_ba5f_c811726dc8berow1_col10\" class=\"data row1 col10\" >-0.2</td> \n",
       "        <td id=\"T_b16f1880_3145_11e8_ba5f_c811726dc8berow1_col11\" class=\"data row1 col11\" >-0.39</td> \n",
       "    </tr>    <tr> \n",
       "        <th id=\"T_b16f1880_3145_11e8_ba5f_c811726dc8belevel0_row2\" class=\"row_heading level0 row2\" >citric acid</th> \n",
       "        <td id=\"T_b16f1880_3145_11e8_ba5f_c811726dc8berow2_col0\" class=\"data row2 col0\" >0.67</td> \n",
       "        <td id=\"T_b16f1880_3145_11e8_ba5f_c811726dc8berow2_col1\" class=\"data row2 col1\" >-0.55</td> \n",
       "        <td id=\"T_b16f1880_3145_11e8_ba5f_c811726dc8berow2_col2\" class=\"data row2 col2\" >1.0</td> \n",
       "        <td id=\"T_b16f1880_3145_11e8_ba5f_c811726dc8berow2_col3\" class=\"data row2 col3\" >0.14</td> \n",
       "        <td id=\"T_b16f1880_3145_11e8_ba5f_c811726dc8berow2_col4\" class=\"data row2 col4\" >0.2</td> \n",
       "        <td id=\"T_b16f1880_3145_11e8_ba5f_c811726dc8berow2_col5\" class=\"data row2 col5\" >-0.061</td> \n",
       "        <td id=\"T_b16f1880_3145_11e8_ba5f_c811726dc8berow2_col6\" class=\"data row2 col6\" >0.036</td> \n",
       "        <td id=\"T_b16f1880_3145_11e8_ba5f_c811726dc8berow2_col7\" class=\"data row2 col7\" >0.36</td> \n",
       "        <td id=\"T_b16f1880_3145_11e8_ba5f_c811726dc8berow2_col8\" class=\"data row2 col8\" >-0.54</td> \n",
       "        <td id=\"T_b16f1880_3145_11e8_ba5f_c811726dc8berow2_col9\" class=\"data row2 col9\" >0.31</td> \n",
       "        <td id=\"T_b16f1880_3145_11e8_ba5f_c811726dc8berow2_col10\" class=\"data row2 col10\" >0.11</td> \n",
       "        <td id=\"T_b16f1880_3145_11e8_ba5f_c811726dc8berow2_col11\" class=\"data row2 col11\" >0.23</td> \n",
       "    </tr>    <tr> \n",
       "        <th id=\"T_b16f1880_3145_11e8_ba5f_c811726dc8belevel0_row3\" class=\"row_heading level0 row3\" >residual sugar</th> \n",
       "        <td id=\"T_b16f1880_3145_11e8_ba5f_c811726dc8berow3_col0\" class=\"data row3 col0\" >0.11</td> \n",
       "        <td id=\"T_b16f1880_3145_11e8_ba5f_c811726dc8berow3_col1\" class=\"data row3 col1\" >0.0019</td> \n",
       "        <td id=\"T_b16f1880_3145_11e8_ba5f_c811726dc8berow3_col2\" class=\"data row3 col2\" >0.14</td> \n",
       "        <td id=\"T_b16f1880_3145_11e8_ba5f_c811726dc8berow3_col3\" class=\"data row3 col3\" >1.0</td> \n",
       "        <td id=\"T_b16f1880_3145_11e8_ba5f_c811726dc8berow3_col4\" class=\"data row3 col4\" >0.056</td> \n",
       "        <td id=\"T_b16f1880_3145_11e8_ba5f_c811726dc8berow3_col5\" class=\"data row3 col5\" >0.19</td> \n",
       "        <td id=\"T_b16f1880_3145_11e8_ba5f_c811726dc8berow3_col6\" class=\"data row3 col6\" >0.2</td> \n",
       "        <td id=\"T_b16f1880_3145_11e8_ba5f_c811726dc8berow3_col7\" class=\"data row3 col7\" >0.36</td> \n",
       "        <td id=\"T_b16f1880_3145_11e8_ba5f_c811726dc8berow3_col8\" class=\"data row3 col8\" >-0.086</td> \n",
       "        <td id=\"T_b16f1880_3145_11e8_ba5f_c811726dc8berow3_col9\" class=\"data row3 col9\" >0.0055</td> \n",
       "        <td id=\"T_b16f1880_3145_11e8_ba5f_c811726dc8berow3_col10\" class=\"data row3 col10\" >0.042</td> \n",
       "        <td id=\"T_b16f1880_3145_11e8_ba5f_c811726dc8berow3_col11\" class=\"data row3 col11\" >0.014</td> \n",
       "    </tr>    <tr> \n",
       "        <th id=\"T_b16f1880_3145_11e8_ba5f_c811726dc8belevel0_row4\" class=\"row_heading level0 row4\" >chlorides</th> \n",
       "        <td id=\"T_b16f1880_3145_11e8_ba5f_c811726dc8berow4_col0\" class=\"data row4 col0\" >0.094</td> \n",
       "        <td id=\"T_b16f1880_3145_11e8_ba5f_c811726dc8berow4_col1\" class=\"data row4 col1\" >0.061</td> \n",
       "        <td id=\"T_b16f1880_3145_11e8_ba5f_c811726dc8berow4_col2\" class=\"data row4 col2\" >0.2</td> \n",
       "        <td id=\"T_b16f1880_3145_11e8_ba5f_c811726dc8berow4_col3\" class=\"data row4 col3\" >0.056</td> \n",
       "        <td id=\"T_b16f1880_3145_11e8_ba5f_c811726dc8berow4_col4\" class=\"data row4 col4\" >1.0</td> \n",
       "        <td id=\"T_b16f1880_3145_11e8_ba5f_c811726dc8berow4_col5\" class=\"data row4 col5\" >0.0056</td> \n",
       "        <td id=\"T_b16f1880_3145_11e8_ba5f_c811726dc8berow4_col6\" class=\"data row4 col6\" >0.047</td> \n",
       "        <td id=\"T_b16f1880_3145_11e8_ba5f_c811726dc8berow4_col7\" class=\"data row4 col7\" >0.2</td> \n",
       "        <td id=\"T_b16f1880_3145_11e8_ba5f_c811726dc8berow4_col8\" class=\"data row4 col8\" >-0.27</td> \n",
       "        <td id=\"T_b16f1880_3145_11e8_ba5f_c811726dc8berow4_col9\" class=\"data row4 col9\" >0.37</td> \n",
       "        <td id=\"T_b16f1880_3145_11e8_ba5f_c811726dc8berow4_col10\" class=\"data row4 col10\" >-0.22</td> \n",
       "        <td id=\"T_b16f1880_3145_11e8_ba5f_c811726dc8berow4_col11\" class=\"data row4 col11\" >-0.13</td> \n",
       "    </tr>    <tr> \n",
       "        <th id=\"T_b16f1880_3145_11e8_ba5f_c811726dc8belevel0_row5\" class=\"row_heading level0 row5\" >free sulfur dioxide</th> \n",
       "        <td id=\"T_b16f1880_3145_11e8_ba5f_c811726dc8berow5_col0\" class=\"data row5 col0\" >-0.15</td> \n",
       "        <td id=\"T_b16f1880_3145_11e8_ba5f_c811726dc8berow5_col1\" class=\"data row5 col1\" >-0.011</td> \n",
       "        <td id=\"T_b16f1880_3145_11e8_ba5f_c811726dc8berow5_col2\" class=\"data row5 col2\" >-0.061</td> \n",
       "        <td id=\"T_b16f1880_3145_11e8_ba5f_c811726dc8berow5_col3\" class=\"data row5 col3\" >0.19</td> \n",
       "        <td id=\"T_b16f1880_3145_11e8_ba5f_c811726dc8berow5_col4\" class=\"data row5 col4\" >0.0056</td> \n",
       "        <td id=\"T_b16f1880_3145_11e8_ba5f_c811726dc8berow5_col5\" class=\"data row5 col5\" >1.0</td> \n",
       "        <td id=\"T_b16f1880_3145_11e8_ba5f_c811726dc8berow5_col6\" class=\"data row5 col6\" >0.67</td> \n",
       "        <td id=\"T_b16f1880_3145_11e8_ba5f_c811726dc8berow5_col7\" class=\"data row5 col7\" >-0.022</td> \n",
       "        <td id=\"T_b16f1880_3145_11e8_ba5f_c811726dc8berow5_col8\" class=\"data row5 col8\" >0.07</td> \n",
       "        <td id=\"T_b16f1880_3145_11e8_ba5f_c811726dc8berow5_col9\" class=\"data row5 col9\" >0.052</td> \n",
       "        <td id=\"T_b16f1880_3145_11e8_ba5f_c811726dc8berow5_col10\" class=\"data row5 col10\" >-0.069</td> \n",
       "        <td id=\"T_b16f1880_3145_11e8_ba5f_c811726dc8berow5_col11\" class=\"data row5 col11\" >-0.051</td> \n",
       "    </tr>    <tr> \n",
       "        <th id=\"T_b16f1880_3145_11e8_ba5f_c811726dc8belevel0_row6\" class=\"row_heading level0 row6\" >total sulfur dioxide</th> \n",
       "        <td id=\"T_b16f1880_3145_11e8_ba5f_c811726dc8berow6_col0\" class=\"data row6 col0\" >-0.11</td> \n",
       "        <td id=\"T_b16f1880_3145_11e8_ba5f_c811726dc8berow6_col1\" class=\"data row6 col1\" >0.076</td> \n",
       "        <td id=\"T_b16f1880_3145_11e8_ba5f_c811726dc8berow6_col2\" class=\"data row6 col2\" >0.036</td> \n",
       "        <td id=\"T_b16f1880_3145_11e8_ba5f_c811726dc8berow6_col3\" class=\"data row6 col3\" >0.2</td> \n",
       "        <td id=\"T_b16f1880_3145_11e8_ba5f_c811726dc8berow6_col4\" class=\"data row6 col4\" >0.047</td> \n",
       "        <td id=\"T_b16f1880_3145_11e8_ba5f_c811726dc8berow6_col5\" class=\"data row6 col5\" >0.67</td> \n",
       "        <td id=\"T_b16f1880_3145_11e8_ba5f_c811726dc8berow6_col6\" class=\"data row6 col6\" >1.0</td> \n",
       "        <td id=\"T_b16f1880_3145_11e8_ba5f_c811726dc8berow6_col7\" class=\"data row6 col7\" >0.071</td> \n",
       "        <td id=\"T_b16f1880_3145_11e8_ba5f_c811726dc8berow6_col8\" class=\"data row6 col8\" >-0.066</td> \n",
       "        <td id=\"T_b16f1880_3145_11e8_ba5f_c811726dc8berow6_col9\" class=\"data row6 col9\" >0.043</td> \n",
       "        <td id=\"T_b16f1880_3145_11e8_ba5f_c811726dc8berow6_col10\" class=\"data row6 col10\" >-0.21</td> \n",
       "        <td id=\"T_b16f1880_3145_11e8_ba5f_c811726dc8berow6_col11\" class=\"data row6 col11\" >-0.19</td> \n",
       "    </tr>    <tr> \n",
       "        <th id=\"T_b16f1880_3145_11e8_ba5f_c811726dc8belevel0_row7\" class=\"row_heading level0 row7\" >density</th> \n",
       "        <td id=\"T_b16f1880_3145_11e8_ba5f_c811726dc8berow7_col0\" class=\"data row7 col0\" >0.67</td> \n",
       "        <td id=\"T_b16f1880_3145_11e8_ba5f_c811726dc8berow7_col1\" class=\"data row7 col1\" >0.022</td> \n",
       "        <td id=\"T_b16f1880_3145_11e8_ba5f_c811726dc8berow7_col2\" class=\"data row7 col2\" >0.36</td> \n",
       "        <td id=\"T_b16f1880_3145_11e8_ba5f_c811726dc8berow7_col3\" class=\"data row7 col3\" >0.36</td> \n",
       "        <td id=\"T_b16f1880_3145_11e8_ba5f_c811726dc8berow7_col4\" class=\"data row7 col4\" >0.2</td> \n",
       "        <td id=\"T_b16f1880_3145_11e8_ba5f_c811726dc8berow7_col5\" class=\"data row7 col5\" >-0.022</td> \n",
       "        <td id=\"T_b16f1880_3145_11e8_ba5f_c811726dc8berow7_col6\" class=\"data row7 col6\" >0.071</td> \n",
       "        <td id=\"T_b16f1880_3145_11e8_ba5f_c811726dc8berow7_col7\" class=\"data row7 col7\" >1.0</td> \n",
       "        <td id=\"T_b16f1880_3145_11e8_ba5f_c811726dc8berow7_col8\" class=\"data row7 col8\" >-0.34</td> \n",
       "        <td id=\"T_b16f1880_3145_11e8_ba5f_c811726dc8berow7_col9\" class=\"data row7 col9\" >0.15</td> \n",
       "        <td id=\"T_b16f1880_3145_11e8_ba5f_c811726dc8berow7_col10\" class=\"data row7 col10\" >-0.5</td> \n",
       "        <td id=\"T_b16f1880_3145_11e8_ba5f_c811726dc8berow7_col11\" class=\"data row7 col11\" >-0.17</td> \n",
       "    </tr>    <tr> \n",
       "        <th id=\"T_b16f1880_3145_11e8_ba5f_c811726dc8belevel0_row8\" class=\"row_heading level0 row8\" >pH</th> \n",
       "        <td id=\"T_b16f1880_3145_11e8_ba5f_c811726dc8berow8_col0\" class=\"data row8 col0\" >-0.68</td> \n",
       "        <td id=\"T_b16f1880_3145_11e8_ba5f_c811726dc8berow8_col1\" class=\"data row8 col1\" >0.23</td> \n",
       "        <td id=\"T_b16f1880_3145_11e8_ba5f_c811726dc8berow8_col2\" class=\"data row8 col2\" >-0.54</td> \n",
       "        <td id=\"T_b16f1880_3145_11e8_ba5f_c811726dc8berow8_col3\" class=\"data row8 col3\" >-0.086</td> \n",
       "        <td id=\"T_b16f1880_3145_11e8_ba5f_c811726dc8berow8_col4\" class=\"data row8 col4\" >-0.27</td> \n",
       "        <td id=\"T_b16f1880_3145_11e8_ba5f_c811726dc8berow8_col5\" class=\"data row8 col5\" >0.07</td> \n",
       "        <td id=\"T_b16f1880_3145_11e8_ba5f_c811726dc8berow8_col6\" class=\"data row8 col6\" >-0.066</td> \n",
       "        <td id=\"T_b16f1880_3145_11e8_ba5f_c811726dc8berow8_col7\" class=\"data row8 col7\" >-0.34</td> \n",
       "        <td id=\"T_b16f1880_3145_11e8_ba5f_c811726dc8berow8_col8\" class=\"data row8 col8\" >1.0</td> \n",
       "        <td id=\"T_b16f1880_3145_11e8_ba5f_c811726dc8berow8_col9\" class=\"data row8 col9\" >-0.2</td> \n",
       "        <td id=\"T_b16f1880_3145_11e8_ba5f_c811726dc8berow8_col10\" class=\"data row8 col10\" >0.21</td> \n",
       "        <td id=\"T_b16f1880_3145_11e8_ba5f_c811726dc8berow8_col11\" class=\"data row8 col11\" >-0.058</td> \n",
       "    </tr>    <tr> \n",
       "        <th id=\"T_b16f1880_3145_11e8_ba5f_c811726dc8belevel0_row9\" class=\"row_heading level0 row9\" >sulphates</th> \n",
       "        <td id=\"T_b16f1880_3145_11e8_ba5f_c811726dc8berow9_col0\" class=\"data row9 col0\" >0.18</td> \n",
       "        <td id=\"T_b16f1880_3145_11e8_ba5f_c811726dc8berow9_col1\" class=\"data row9 col1\" >-0.26</td> \n",
       "        <td id=\"T_b16f1880_3145_11e8_ba5f_c811726dc8berow9_col2\" class=\"data row9 col2\" >0.31</td> \n",
       "        <td id=\"T_b16f1880_3145_11e8_ba5f_c811726dc8berow9_col3\" class=\"data row9 col3\" >0.0055</td> \n",
       "        <td id=\"T_b16f1880_3145_11e8_ba5f_c811726dc8berow9_col4\" class=\"data row9 col4\" >0.37</td> \n",
       "        <td id=\"T_b16f1880_3145_11e8_ba5f_c811726dc8berow9_col5\" class=\"data row9 col5\" >0.052</td> \n",
       "        <td id=\"T_b16f1880_3145_11e8_ba5f_c811726dc8berow9_col6\" class=\"data row9 col6\" >0.043</td> \n",
       "        <td id=\"T_b16f1880_3145_11e8_ba5f_c811726dc8berow9_col7\" class=\"data row9 col7\" >0.15</td> \n",
       "        <td id=\"T_b16f1880_3145_11e8_ba5f_c811726dc8berow9_col8\" class=\"data row9 col8\" >-0.2</td> \n",
       "        <td id=\"T_b16f1880_3145_11e8_ba5f_c811726dc8berow9_col9\" class=\"data row9 col9\" >1.0</td> \n",
       "        <td id=\"T_b16f1880_3145_11e8_ba5f_c811726dc8berow9_col10\" class=\"data row9 col10\" >0.094</td> \n",
       "        <td id=\"T_b16f1880_3145_11e8_ba5f_c811726dc8berow9_col11\" class=\"data row9 col11\" >0.25</td> \n",
       "    </tr>    <tr> \n",
       "        <th id=\"T_b16f1880_3145_11e8_ba5f_c811726dc8belevel0_row10\" class=\"row_heading level0 row10\" >alcohol</th> \n",
       "        <td id=\"T_b16f1880_3145_11e8_ba5f_c811726dc8berow10_col0\" class=\"data row10 col0\" >-0.062</td> \n",
       "        <td id=\"T_b16f1880_3145_11e8_ba5f_c811726dc8berow10_col1\" class=\"data row10 col1\" >-0.2</td> \n",
       "        <td id=\"T_b16f1880_3145_11e8_ba5f_c811726dc8berow10_col2\" class=\"data row10 col2\" >0.11</td> \n",
       "        <td id=\"T_b16f1880_3145_11e8_ba5f_c811726dc8berow10_col3\" class=\"data row10 col3\" >0.042</td> \n",
       "        <td id=\"T_b16f1880_3145_11e8_ba5f_c811726dc8berow10_col4\" class=\"data row10 col4\" >-0.22</td> \n",
       "        <td id=\"T_b16f1880_3145_11e8_ba5f_c811726dc8berow10_col5\" class=\"data row10 col5\" >-0.069</td> \n",
       "        <td id=\"T_b16f1880_3145_11e8_ba5f_c811726dc8berow10_col6\" class=\"data row10 col6\" >-0.21</td> \n",
       "        <td id=\"T_b16f1880_3145_11e8_ba5f_c811726dc8berow10_col7\" class=\"data row10 col7\" >-0.5</td> \n",
       "        <td id=\"T_b16f1880_3145_11e8_ba5f_c811726dc8berow10_col8\" class=\"data row10 col8\" >0.21</td> \n",
       "        <td id=\"T_b16f1880_3145_11e8_ba5f_c811726dc8berow10_col9\" class=\"data row10 col9\" >0.094</td> \n",
       "        <td id=\"T_b16f1880_3145_11e8_ba5f_c811726dc8berow10_col10\" class=\"data row10 col10\" >1.0</td> \n",
       "        <td id=\"T_b16f1880_3145_11e8_ba5f_c811726dc8berow10_col11\" class=\"data row10 col11\" >0.48</td> \n",
       "    </tr>    <tr> \n",
       "        <th id=\"T_b16f1880_3145_11e8_ba5f_c811726dc8belevel0_row11\" class=\"row_heading level0 row11\" >quality</th> \n",
       "        <td id=\"T_b16f1880_3145_11e8_ba5f_c811726dc8berow11_col0\" class=\"data row11 col0\" >0.12</td> \n",
       "        <td id=\"T_b16f1880_3145_11e8_ba5f_c811726dc8berow11_col1\" class=\"data row11 col1\" >-0.39</td> \n",
       "        <td id=\"T_b16f1880_3145_11e8_ba5f_c811726dc8berow11_col2\" class=\"data row11 col2\" >0.23</td> \n",
       "        <td id=\"T_b16f1880_3145_11e8_ba5f_c811726dc8berow11_col3\" class=\"data row11 col3\" >0.014</td> \n",
       "        <td id=\"T_b16f1880_3145_11e8_ba5f_c811726dc8berow11_col4\" class=\"data row11 col4\" >-0.13</td> \n",
       "        <td id=\"T_b16f1880_3145_11e8_ba5f_c811726dc8berow11_col5\" class=\"data row11 col5\" >-0.051</td> \n",
       "        <td id=\"T_b16f1880_3145_11e8_ba5f_c811726dc8berow11_col6\" class=\"data row11 col6\" >-0.19</td> \n",
       "        <td id=\"T_b16f1880_3145_11e8_ba5f_c811726dc8berow11_col7\" class=\"data row11 col7\" >-0.17</td> \n",
       "        <td id=\"T_b16f1880_3145_11e8_ba5f_c811726dc8berow11_col8\" class=\"data row11 col8\" >-0.058</td> \n",
       "        <td id=\"T_b16f1880_3145_11e8_ba5f_c811726dc8berow11_col9\" class=\"data row11 col9\" >0.25</td> \n",
       "        <td id=\"T_b16f1880_3145_11e8_ba5f_c811726dc8berow11_col10\" class=\"data row11 col10\" >0.48</td> \n",
       "        <td id=\"T_b16f1880_3145_11e8_ba5f_c811726dc8berow11_col11\" class=\"data row11 col11\" >1.0</td> \n",
       "    </tr></tbody> \n",
       "</table> "
      ],
      "text/plain": [
       "<pandas.io.formats.style.Styler at 0x21b812140f0>"
      ]
     },
     "execution_count": 157,
     "metadata": {},
     "output_type": "execute_result"
    }
   ],
   "source": [
    "wine.corr(method='pearson').style.format(\"{:.2}\").background_gradient(cmap=plt.get_cmap('coolwarm'), axis=1)"
   ]
  },
  {
   "cell_type": "markdown",
   "metadata": {},
   "source": [
    "# Splitting the data"
   ]
  },
  {
   "cell_type": "code",
   "execution_count": 159,
   "metadata": {},
   "outputs": [],
   "source": [
    "y = wine['quality']"
   ]
  },
  {
   "cell_type": "code",
   "execution_count": 160,
   "metadata": {},
   "outputs": [
    {
     "data": {
      "text/plain": [
       "Text(0,0.5,'Count of datapoints')"
      ]
     },
     "execution_count": 160,
     "metadata": {},
     "output_type": "execute_result"
    },
    {
     "data": {
      "image/png": "[encoded data removed]",
      "text/plain": [
       "<matplotlib.figure.Figure at 0x21bfcd35e48>"
      ]
     },
     "metadata": {},
     "output_type": "display_data"
    }
   ],
   "source": [
    "#Distribution of output variable\n",
    "plt.figure(figsize=(10,6))\n",
    "y.value_counts().plot(kind='bar')\n",
    "plt.title(\"Distribution of output variable\")\n",
    "plt.xlabel(\"Quality of Wine\")\n",
    "plt.ylabel(\"Count of datapoints\")"
   ]
  },
  {
   "cell_type": "code",
   "execution_count": 161,
   "metadata": {},
   "outputs": [
    {
     "name": "stdout",
     "output_type": "stream",
     "text": [
      "Counter({5: 681, 6: 638, 7: 199, 4: 53, 8: 18, 3: 10})\n"
     ]
    }
   ],
   "source": [
    "#To get the count of the output variable distribution\n",
    "#https://stackoverflow.com/questions/2161752/how-to-count-the-frequency-of-the-elements-in-a-list/2162045\n",
    "import collections\n",
    "counter=collections.Counter(y)\n",
    "print(counter)"
   ]
  },
  {
   "cell_type": "code",
   "execution_count": 258,
   "metadata": {},
   "outputs": [
    {
     "data": {
      "text/plain": [
       "{3: 0.6253908692933083,\n",
       " 4: 3.314571607254534,\n",
       " 5: 42.589118198874296,\n",
       " 6: 39.89993746091307,\n",
       " 7: 12.445278298936834,\n",
       " 8: 1.125703564727955}"
      ]
     },
     "execution_count": 258,
     "metadata": {},
     "output_type": "execute_result"
    }
   ],
   "source": [
    "#https://stackoverflow.com/questions/40354490/python-list-find-percentage-of-the-times-that-a-word-appears\n",
    "#To find the % of data points for the target variable for BASELINE ACCURACY\n",
    "from collections import Counter\n",
    "\n",
    "count = Counter(y).items()\n",
    "\n",
    "percentages = {x: float(float(z) / len(y) * 100) for x, z in count}\n",
    "percentages"
   ]
  },
  {
   "cell_type": "code",
   "execution_count": 259,
   "metadata": {},
   "outputs": [],
   "source": [
    "#Dropping all the variables that has negative correlation with the out variable\n",
    "x = wine.drop(['quality','volatile acidity','chlorides','density','free sulfur dioxide','total sulfur dioxide','pH'], axis = 1)"
   ]
  },
  {
   "cell_type": "code",
   "execution_count": 260,
   "metadata": {
    "collapsed": true
   },
   "outputs": [],
   "source": [
    "#To split data into training and testing data set\n",
    "from sklearn.model_selection import train_test_split\n",
    "x_train,x_test,y_train,y_test = train_test_split(x,y,test_size=0.2,random_state=42,stratify=y)"
   ]
  },
  {
   "cell_type": "markdown",
   "metadata": {},
   "source": [
    "# Decision Tree"
   ]
  },
  {
   "cell_type": "code",
   "execution_count": 319,
   "metadata": {},
   "outputs": [
    {
     "data": {
      "text/plain": [
       "DecisionTreeClassifier(class_weight=None, criterion='gini', max_depth=None,\n",
       "            max_features=None, max_leaf_nodes=None,\n",
       "            min_impurity_decrease=0.0, min_impurity_split=None,\n",
       "            min_samples_leaf=1, min_samples_split=2,\n",
       "            min_weight_fraction_leaf=0.0, presort=False, random_state=None,\n",
       "            splitter='best')"
      ]
     },
     "execution_count": 319,
     "metadata": {},
     "output_type": "execute_result"
    }
   ],
   "source": [
    "# Import Tree methods and fit the training set to Decision Tree model\n",
    "from sklearn import tree\n",
    "tree_model = tree.DecisionTreeClassifier()\n",
    "tree_model.fit(x_train,y_train)"
   ]
  },
  {
   "cell_type": "code",
   "execution_count": 320,
   "metadata": {
    "collapsed": true
   },
   "outputs": [],
   "source": [
    "# Predict the target variable\n",
    "y_pred = tree_model.predict(x_test)"
   ]
  },
  {
   "cell_type": "code",
   "execution_count": 336,
   "metadata": {},
   "outputs": [
    {
     "name": "stdout",
     "output_type": "stream",
     "text": [
      "Accuracy Score: 0.59375\n",
      "\n",
      "\n",
      "Confusion Matrix:\n",
      "\n",
      "\n",
      "[[ 0  0  0  1  1  0]\n",
      " [ 0  2  8  1  0  0]\n",
      " [ 1  1 90 39  5  0]\n",
      " [ 0  3 35 81  7  2]\n",
      " [ 0  2  3 17 16  2]\n",
      " [ 0  0  0  1  1  1]]\n",
      "\n",
      "\n",
      "Classification Report:\n",
      "\n",
      "\n",
      "             precision    recall  f1-score   support\n",
      "\n",
      "          3       0.00      0.00      0.00         2\n",
      "          4       0.25      0.18      0.21        11\n",
      "          5       0.66      0.66      0.66       136\n",
      "          6       0.58      0.63      0.60       128\n",
      "          7       0.53      0.40      0.46        40\n",
      "          8       0.20      0.33      0.25         3\n",
      "\n",
      "avg / total       0.59      0.59      0.59       320\n",
      "\n"
     ]
    }
   ],
   "source": [
    "print('Accuracy Score:',accuracy_score(y_test,y_pred))\n",
    "print('\\n')\n",
    "print('Confusion Matrix:')\n",
    "print('\\n')\n",
    "print(confusion_matrix(y_test,y_pred))\n",
    "print('\\n')\n",
    "print('Classification Report:')\n",
    "print('\\n')\n",
    "print(classification_report(y_test,y_pred))"
   ]
  },
  {
   "cell_type": "raw",
   "metadata": {},
   "source": [
    "With respect to baseline accuracy found, the model is performing well.\n",
    "Following is the comparison\n",
    "Quality Baseline Accuracy Model Accuracy/recall\n",
    " 3         0.62%               0%\n",
    " 4         3.31%               18%\n",
    " 5         42.58%              66.1%\n",
    " 6         39.89%              63%\n",
    " 7         12.44%              40% \n",
    " 8         1.12%               33%"
   ]
  },
  {
   "cell_type": "markdown",
   "metadata": {},
   "source": [
    "# Hyperparameter Tuning "
   ]
  },
  {
   "cell_type": "code",
   "execution_count": 322,
   "metadata": {
    "collapsed": true
   },
   "outputs": [],
   "source": [
    "from scipy.stats import randint"
   ]
  },
  {
   "cell_type": "code",
   "execution_count": 323,
   "metadata": {
    "collapsed": true
   },
   "outputs": [],
   "source": [
    "from  sklearn.model_selection import RandomizedSearchCV"
   ]
  },
  {
   "cell_type": "code",
   "execution_count": null,
   "metadata": {
    "collapsed": true
   },
   "outputs": [],
   "source": [
    "#set the refit value to True. 10 iterations and 5 cross-validation\n",
    "Decision_Tree_tunning = RandomizedSearchCV(tree_model,param_distributions=param_dist,refit = True,n_iter = 10,cv=5)"
   ]
  },
  {
   "cell_type": "code",
   "execution_count": 330,
   "metadata": {
    "collapsed": true
   },
   "outputs": [],
   "source": [
    "# Create a dictionary of parameter options\n",
    "param_dist = {\"max_depth\": randint(1,10),\n",
    "              \"max_features\": randint(1, 3),\n",
    "              \"min_samples_leaf\": randint(1, 9),\n",
    "              \"criterion\": [\"gini\", \"entropy\"]}"
   ]
  },
  {
   "cell_type": "code",
   "execution_count": 332,
   "metadata": {},
   "outputs": [
    {
     "data": {
      "text/plain": [
       "RandomizedSearchCV(cv=5, error_score='raise',\n",
       "          estimator=DecisionTreeClassifier(class_weight=None, criterion='gini', max_depth=None,\n",
       "            max_features=None, max_leaf_nodes=None,\n",
       "            min_impurity_decrease=0.0, min_impurity_split=None,\n",
       "            min_samples_leaf=1, min_samples_split=2,\n",
       "            min_weight_fraction_leaf=0.0, presort=False, random_state=None,\n",
       "            splitter='best'),\n",
       "          fit_params=None, iid=True, n_iter=10, n_jobs=1,\n",
       "          param_distributions={'max_depth': <scipy.stats._distn_infrastructure.rv_frozen object at 0x0000021B824D05C0>, 'max_features': <scipy.stats._distn_infrastructure.rv_frozen object at 0x0000021B824D0A20>, 'min_samples_leaf': <scipy.stats._distn_infrastructure.rv_frozen object at 0x0000021B824D0B00>, 'criterion': ['gini', 'entropy']},\n",
       "          pre_dispatch='2*n_jobs', random_state=None, refit=True,\n",
       "          return_train_score='warn', scoring=None, verbose=0)"
      ]
     },
     "execution_count": 332,
     "metadata": {},
     "output_type": "execute_result"
    }
   ],
   "source": [
    "Decision_Tree_tunning.fit(x_train,y_train)"
   ]
  },
  {
   "cell_type": "code",
   "execution_count": 333,
   "metadata": {},
   "outputs": [
    {
     "name": "stdout",
     "output_type": "stream",
     "text": [
      "Tuned Decision Tree Parameters: {'criterion': 'entropy', 'max_depth': 4, 'max_features': 2, 'min_samples_leaf': 7}\n"
     ]
    }
   ],
   "source": [
    "# Best hyperparameters from RandomizedSearch\n",
    "print(\"Tuned Decision Tree Parameters: {}\".format(Decision_Tree_tunning.best_params_))"
   ]
  },
  {
   "cell_type": "code",
   "execution_count": 334,
   "metadata": {
    "collapsed": true
   },
   "outputs": [],
   "source": [
    "y_pred_CV = Decision_Tree_tunning.predict(x_test)"
   ]
  },
  {
   "cell_type": "code",
   "execution_count": 329,
   "metadata": {},
   "outputs": [
    {
     "name": "stdout",
     "output_type": "stream",
     "text": [
      "Accuracy Score: 0.55625\n",
      "\n",
      "\n",
      "Confusion Matrix:\n",
      "\n",
      "\n",
      "[[  0   0   1   1   0   0]\n",
      " [  0   0   8   3   0   0]\n",
      " [  0   0 106  30   0   0]\n",
      " [  0   0  56  72   0   0]\n",
      " [  0   0   2  38   0   0]\n",
      " [  0   0   1   2   0   0]]\n",
      "\n",
      "\n",
      "Classification Report:\n",
      "\n",
      "\n",
      "             precision    recall  f1-score   support\n",
      "\n",
      "          3       0.00      0.00      0.00         2\n",
      "          4       0.00      0.00      0.00        11\n",
      "          5       0.61      0.78      0.68       136\n",
      "          6       0.49      0.56      0.53       128\n",
      "          7       0.00      0.00      0.00        40\n",
      "          8       0.00      0.00      0.00         3\n",
      "\n",
      "avg / total       0.46      0.56      0.50       320\n",
      "\n"
     ]
    },
    {
     "name": "stderr",
     "output_type": "stream",
     "text": [
      "C:\\Users\\ts_ta\\Anaconda3\\lib\\site-packages\\sklearn\\metrics\\classification.py:1135: UndefinedMetricWarning: Precision and F-score are ill-defined and being set to 0.0 in labels with no predicted samples.\n",
      "  'precision', 'predicted', average, warn_for)\n"
     ]
    }
   ],
   "source": [
    "print('Accuracy Score:',accuracy_score(y_test,y_pred_CV))\n",
    "print('\\n')\n",
    "print('Confusion Matrix:')\n",
    "print('\\n')\n",
    "print(confusion_matrix(y_test,y_pred_CV))\n",
    "print('\\n')\n",
    "print('Classification Report:')\n",
    "print('\\n')\n",
    "print(classification_report(y_test,y_pred_CV))"
   ]
  },
  {
   "cell_type": "markdown",
   "metadata": {},
   "source": [
    "The accuracy decreases and it indicates that the non parametrized model is overfitting and hence the parametrized model's accuracy has gone down after hyper parameter tuning"
   ]
  },
  {
   "cell_type": "markdown",
   "metadata": {},
   "source": [
    "# Naive Bayes"
   ]
  },
  {
   "cell_type": "code",
   "execution_count": 275,
   "metadata": {
    "collapsed": true
   },
   "outputs": [],
   "source": [
    "from sklearn.naive_bayes import GaussianNB"
   ]
  },
  {
   "cell_type": "code",
   "execution_count": 276,
   "metadata": {
    "collapsed": true
   },
   "outputs": [],
   "source": [
    "model = GaussianNB()"
   ]
  },
  {
   "cell_type": "code",
   "execution_count": 277,
   "metadata": {},
   "outputs": [
    {
     "data": {
      "text/plain": [
       "GaussianNB(priors=None)"
      ]
     },
     "execution_count": 277,
     "metadata": {},
     "output_type": "execute_result"
    }
   ],
   "source": [
    "model.fit(x_train,y_train)"
   ]
  },
  {
   "cell_type": "code",
   "execution_count": 278,
   "metadata": {
    "collapsed": true
   },
   "outputs": [],
   "source": [
    "# Predict the target variable\n",
    "rf_pred=rf_model.predict(x_test)"
   ]
  },
  {
   "cell_type": "code",
   "execution_count": 279,
   "metadata": {},
   "outputs": [
    {
     "name": "stdout",
     "output_type": "stream",
     "text": [
      "Accuracy Score: 0.653125\n",
      "\n",
      "\n",
      "Confusion Matrix:\n",
      "\n",
      "\n",
      "[[  0   0   1   1   0   0]\n",
      " [  0   0   7   4   0   0]\n",
      " [  0   0 102  33   1   0]\n",
      " [  0   0  35  87   6   0]\n",
      " [  0   0   2  18  20   0]\n",
      " [  0   0   0   2   1   0]]\n",
      "\n",
      "\n",
      "Classification Report:\n",
      "\n",
      "\n",
      "             precision    recall  f1-score   support\n",
      "\n",
      "          3       0.00      0.00      0.00         2\n",
      "          4       0.00      0.00      0.00        11\n",
      "          5       0.69      0.75      0.72       136\n",
      "          6       0.60      0.68      0.64       128\n",
      "          7       0.71      0.50      0.59        40\n",
      "          8       0.00      0.00      0.00         3\n",
      "\n",
      "avg / total       0.62      0.65      0.63       320\n",
      "\n"
     ]
    },
    {
     "name": "stderr",
     "output_type": "stream",
     "text": [
      "C:\\Users\\ts_ta\\Anaconda3\\lib\\site-packages\\sklearn\\metrics\\classification.py:1135: UndefinedMetricWarning: Precision and F-score are ill-defined and being set to 0.0 in labels with no predicted samples.\n",
      "  'precision', 'predicted', average, warn_for)\n"
     ]
    }
   ],
   "source": [
    "print('Accuracy Score:',accuracy_score(y_test,rf_pred))\n",
    "print('\\n')\n",
    "print('Confusion Matrix:')\n",
    "print('\\n')\n",
    "print(confusion_matrix(y_test,rf_pred))\n",
    "print('\\n')\n",
    "print('Classification Report:')\n",
    "print('\\n')\n",
    "print(classification_report(y_test,rf_pred))"
   ]
  },
  {
   "cell_type": "markdown",
   "metadata": {},
   "source": [
    "This model proves: \"Some algorithms (such as Random Forest classifiers or naive Bayes classifiers) are capable of handling\n",
    "multiple classes directly. Others (such as Support Vector Machine classifiers or Linear classifiers) are\n",
    "strictly binary classifiers\" statement,stated in the book Hands-On Machine Learning with - Aurelien Geron"
   ]
  }
 ],
 "metadata": {
  "kernelspec": {
   "display_name": "Python 3",
   "language": "python",
   "name": "python3"
  },
  "language_info": {
   "codemirror_mode": {
    "name": "ipython",
    "version": 3
   },
   "file_extension": ".py",
   "mimetype": "text/x-python",
   "name": "python",
   "nbconvert_exporter": "python",
   "pygments_lexer": "ipython3",
   "version": "3.6.3"
  }
 },
 "nbformat": 4,
 "nbformat_minor": 2
}
