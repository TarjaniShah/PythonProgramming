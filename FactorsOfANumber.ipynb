{
 "cells": [
  {
   "cell_type": "code",
   "execution_count": 1,
   "metadata": {
    "collapsed": true
   },
   "outputs": [],
   "source": [
    "import math"
   ]
  },
  {
   "cell_type": "code",
   "execution_count": 2,
   "metadata": {
    "collapsed": true
   },
   "outputs": [],
   "source": [
    "#Function to find factors of each element in a given list\n",
    "def factor(inputlist):\n",
    "    #Step1: Converting the input list into the dictionary\n",
    "    d = dict((i,1) for i in inputlist)\n",
    "    \n",
    "    #Step2: A for loop to itterate all the elements in the list\n",
    "    for j in range(len(inputlist)):\n",
    "        #step3: Assigning the key for the dictionary\n",
    "        key = inputlist[j]\n",
    "        \n",
    "        #Step4: Creating a to append all the factors of a given element into a single list\n",
    "        templist = [1,key] #1 and the number itself are factors\n",
    "        \n",
    "        #Step5: Logic to check all the numbers from 2 to the number divided by 2 to save the number of iterations and hence better time complexity\n",
    "        for i in range(2, math.floor(key/2)+1):\n",
    "            if key % i == 0: #Finding remainders of each element  \n",
    "                templist.append(i) #appending all the factors to the templist\n",
    "        d[key] = templist #Assigning the above list as values of the key\n",
    "        \n",
    "        #Step6: sorting in the ascending order\n",
    "        d[key].sort()\n",
    "    print(d)"
   ]
  },
  {
   "cell_type": "code",
   "execution_count": 3,
   "metadata": {},
   "outputs": [
    {
     "name": "stdout",
     "output_type": "stream",
     "text": [
      "Please enter five numbers in ascending order separated by a single space only: 1,2,3,4,5\n",
      "Factors of each element:\n",
      "{1: [1, 1], 2: [1, 2], 3: [1, 3], 4: [1, 2, 4], 5: [1, 5]}\n"
     ]
    }
   ],
   "source": [
    "user_input = input(\"Please enter five numbers in ascending order separated by a single space only: \")\n",
    "inputlist = [int(i) for i in user_input.split(',')]\n",
    "print(\"Factors of each element:\")\n",
    "factor(inputlist)"
   ]
  },
  {
   "cell_type": "code",
   "execution_count": null,
   "metadata": {
    "collapsed": true
   },
   "outputs": [],
   "source": []
  }
 ],
 "metadata": {
  "kernelspec": {
   "display_name": "Python 3",
   "language": "python",
   "name": "python3"
  },
  "language_info": {
   "codemirror_mode": {
    "name": "ipython",
    "version": 3
   },
   "file_extension": ".py",
   "mimetype": "text/x-python",
   "name": "python",
   "nbconvert_exporter": "python",
   "pygments_lexer": "ipython3",
   "version": "3.6.3"
  }
 },
 "nbformat": 4,
 "nbformat_minor": 2
}
